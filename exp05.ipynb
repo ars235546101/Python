{
  "nbformat": 4,
  "nbformat_minor": 0,
  "metadata": {
    "colab": {
      "provenance": []
    },
    "kernelspec": {
      "name": "python3",
      "display_name": "Python 3"
    },
    "language_info": {
      "name": "python"
    }
  },
  "cells": [
    {
      "cell_type": "code",
      "execution_count": 5,
      "metadata": {
        "colab": {
          "base_uri": "https://localhost:8080/"
        },
        "id": "q54i7pM1Or7h",
        "outputId": "aea5d7df-6e83-4798-a684-ca0c5cc4f5e3"
      },
      "outputs": [
        {
          "output_type": "stream",
          "name": "stdout",
          "text": [
            "Initial Stack\n",
            "['a', 'b', 'c']\n",
            "c\n",
            "b\n",
            "a\n",
            "[]\n",
            "Please enter a random string with nested parentheses:\n",
            "((ARYAN)(SINGH))\n",
            "The maximum depth of nested parentheses is: 2\n"
          ]
        }
      ],
      "source": [
        "stack = list ()\n",
        "\n",
        "# Append Operation\n",
        "stack.append ('a')\n",
        "stack.append ('b')\n",
        "stack.append ('c')\n",
        "print ('Initial Stack')\n",
        "print (stack)\n",
        "\n",
        "# Pop Operation\n",
        "print (stack.pop ())\n",
        "print (stack.pop ())\n",
        "print (stack.pop ())\n",
        "print (stack)\n",
        "\n",
        "def maxDepth(s: str) -> int:\n",
        "    depth = 0\n",
        "    max_depth = 0\n",
        "\n",
        "    for char in s:\n",
        "        if char == '(':\n",
        "            depth += 1\n",
        "            max_depth = max(depth, max_depth)\n",
        "        elif char == ')':\n",
        "            depth -= 1\n",
        "\n",
        "    return max_depth\n",
        "\n",
        "print(\"Please enter a random string with nested parentheses:\")\n",
        "random_string = input()\n",
        "\n",
        "result = maxDepth(random_string)\n",
        "print(\"The maximum depth of nested parentheses is:\", result)"
      ]
    }
  ]
}