{
 "cells": [
  {
   "cell_type": "code",
   "execution_count": 11,
   "id": "26fe90ad-1c9e-444a-ac89-1acd1b53614a",
   "metadata": {},
   "outputs": [
    {
     "name": "stdout",
     "output_type": "stream",
     "text": [
      "False\n"
     ]
    }
   ],
   "source": [
    "class conditionalStatements:\n",
    "    def checkString(self, s: str) -> bool:\n",
    "        seen_b = False\n",
    "        \n",
    "        # Loop through the string\n",
    "        for char in s:\n",
    "            if char == 'b':\n",
    "                seen_b = True\n",
    "            elif char == 'a' and seen_b:\n",
    "                # If 'a' comes after 'b', return False\n",
    "                return False\n",
    "        \n",
    "        # If we reach here, every 'a' comes before 'b'\n",
    "        return True\n",
    "\n",
    "# check condition\n",
    "cs = conditionalStatements()\n",
    "result = cs.checkString(\"baba\") \n",
    "print(result) \n"
   ]
  },
  {
   "cell_type": "code",
   "execution_count": null,
   "id": "784ab5af-314d-42aa-b0b6-8e22464f1263",
   "metadata": {},
   "outputs": [],
   "source": []
  }
 ],
 "metadata": {
  "kernelspec": {
   "display_name": "Python [conda env:base] *",
   "language": "python",
   "name": "conda-base-py"
  },
  "language_info": {
   "codemirror_mode": {
    "name": "ipython",
    "version": 3
   },
   "file_extension": ".py",
   "mimetype": "text/x-python",
   "name": "python",
   "nbconvert_exporter": "python",
   "pygments_lexer": "ipython3",
   "version": "3.12.7"
  }
 },
 "nbformat": 4,
 "nbformat_minor": 5
}
