{
 "cells": [
  {
   "cell_type": "markdown",
   "metadata": {},
   "source": [
    "### Strings in Python"
   ]
  },
  {
   "cell_type": "code",
   "execution_count": 5,
   "metadata": {},
   "outputs": [
    {
     "name": "stdout",
     "output_type": "stream",
     "text": [
      "This is a string\n",
      "This is a string\n",
      "This is a string\n"
     ]
    }
   ],
   "source": [
    "# Assigning string to a variable\n",
    "a = 'This is a string'\n",
    "print (a)\n",
    "b = \"This is a string\"\n",
    "print (b)\n",
    "c= '''This is a string'''\n",
    "print (c)"
   ]
  },
  {
   "cell_type": "markdown",
   "metadata": {},
   "source": [
    "### Lists in Python"
   ]
  },
  {
   "cell_type": "code",
   "execution_count": 6,
   "metadata": {},
   "outputs": [
    {
     "name": "stdout",
     "output_type": "stream",
     "text": [
      "[1, 'a', 'string', 3]\n",
      "[1, 'a', 'string', 3, 6]\n",
      "[1, 'a', 'string', 3]\n",
      "a\n"
     ]
    }
   ],
   "source": [
    "# Declaring a list\n",
    "L = [1, \"a\" , \"string\" , 1+2]\n",
    "print (L)\n",
    "#Adding an element in the list\n",
    "L.append(6) \n",
    "print (L)\n",
    "#Deleting last element from a list\n",
    "L.pop()\n",
    "print (L)\n",
    "#Displaying Second element of the list\n",
    "print (L[1])"
   ]
  },
  {
   "cell_type": "markdown",
   "metadata": {},
   "source": [
    "### Tuples in Python"
   ]
  },
  {
   "cell_type": "code",
   "execution_count": 7,
   "metadata": {},
   "outputs": [
    {
     "name": "stdout",
     "output_type": "stream",
     "text": [
      "(1, 'a', 'string', 3)\n",
      "a\n"
     ]
    }
   ],
   "source": [
    "tup = (1, \"a\", \"string\", 1+2)\n",
    "print(tup)\n",
    "print(tup[1])"
   ]
  },
  {
   "cell_type": "markdown",
   "metadata": {},
   "source": [
    "### Dictionaries in Python"
   ]
  },
  {
   "cell_type": "markdown",
   "metadata": {},
   "source": [
    "A Python dictionary is a data structure that stores the value in key: value pairs. Values in a dictionary can be of any data type and can be duplicated, whereas keys can’t be repeated and must be immutable."
   ]
  },
  {
   "cell_type": "markdown",
   "metadata": {},
   "source": [
    "dictionary = {\n",
    "    key : element\n",
    "}"
   ]
  },
  {
   "cell_type": "markdown",
   "metadata": {},
   "source": [
    "### Format : JSON - JavaScript Object Notation"
   ]
  },
  {
   "cell_type": "code",
   "execution_count": 8,
   "metadata": {},
   "outputs": [
    {
     "name": "stdout",
     "output_type": "stream",
     "text": [
      "{'firstName': 'ABX', 'lastName': 'DEF', 'knowsDriving': False, 'contact': 123}\n"
     ]
    }
   ],
   "source": [
    "name = {'firstName' : 'ABX', 'lastName' : 'DEF', 'knowsDriving' : False, 'contact' : 123}\n",
    "print (name)"
   ]
  },
  {
   "cell_type": "code",
   "execution_count": 9,
   "metadata": {},
   "outputs": [
    {
     "name": "stdout",
     "output_type": "stream",
     "text": [
      "{1: 'Lorem', 2: 'Ipsum', 3: 'Dolerum'}\n"
     ]
    }
   ],
   "source": [
    "d = {1: 'Lorem', 2: 'Ipsum', 3: 'Dolerum'}\n",
    "print(d)"
   ]
  },
  {
   "cell_type": "markdown",
   "metadata": {},
   "source": [
    "#### Create a Dictionary"
   ]
  },
  {
   "cell_type": "code",
   "execution_count": 10,
   "metadata": {},
   "outputs": [
    {
     "name": "stdout",
     "output_type": "stream",
     "text": [
      "{1: 'Game', 2: 'of', 3: 'Thrones'}\n",
      "{'a': 'House', 'b': 'of', 'c': 'Cards'}\n"
     ]
    }
   ],
   "source": [
    "# create dictionary using { }\n",
    "d1 = {1: 'Game', 2: 'of', 3: 'Thrones'}\n",
    "print(d1)\n",
    "\n",
    "# create dictionary using dict() constructor\n",
    "d2 = dict(a = \"House\", b = \"of\", c = \"Cards\")\n",
    "print(d2)"
   ]
  },
  {
   "cell_type": "markdown",
   "metadata": {},
   "source": [
    "#### Accessing Dictionary Items"
   ]
  },
  {
   "cell_type": "code",
   "execution_count": 11,
   "metadata": {},
   "outputs": [
    {
     "name": "stdout",
     "output_type": "stream",
     "text": [
      "Alice\n",
      "Alice\n"
     ]
    }
   ],
   "source": [
    "d = { \"name\": \"Alice\", 1: \"Python\", (1, 2): [1,2,4] }\n",
    "\n",
    "# Access using key\n",
    "print(d[\"name\"])\n",
    "\n",
    "# Access using get()\n",
    "print(d.get(\"name\"))"
   ]
  },
  {
   "cell_type": "markdown",
   "metadata": {},
   "source": [
    "#### Adding and Updating Dictionary Items"
   ]
  },
  {
   "cell_type": "code",
   "execution_count": 12,
   "metadata": {},
   "outputs": [
    {
     "name": "stdout",
     "output_type": "stream",
     "text": [
      "{1: 'Python dict', 2: 'of', 3: 'Thrones', 'age': 22}\n"
     ]
    }
   ],
   "source": [
    "d = {1: 'Game', 2: 'of', 3: 'Thrones'}\n",
    "\n",
    "# Adding a new key-value pair\n",
    "d[\"age\"] = 22\n",
    "\n",
    "# Updating an existing value\n",
    "d[1] = \"Python dict\"\n",
    "\n",
    "print(d)"
   ]
  },
  {
   "cell_type": "markdown",
   "metadata": {},
   "source": [
    "### DELETING IN DICTONARIES\n",
    "To delete/remove an item from the dictionary we can make use of the pop() by specifying a particular key.\n"
   ]
  },
  {
   "cell_type": "code",
   "execution_count": 2,
   "metadata": {},
   "outputs": [
    {
     "name": "stdout",
     "output_type": "stream",
     "text": [
      "{'first_name': 'Aryan', 'middle_name': 'Rajeev', 'last_name': 'Singh'}\n",
      "Aryan\n",
      "Singh\n",
      "{'first_name': 'Aryan', 'last_name': 'Singh'}\n",
      "{'first_name': 'Aryan'}\n",
      "{}\n",
      "{}\n"
     ]
    }
   ],
   "source": [
    "new_dict = {\"first_name\" : \"Aryan\" ,\"middle_name\" : \"Rajeev\", \"last_name\":\"Singh\"}\n",
    "print(new_dict)\n",
    "print(new_dict[\"first_name\"])\n",
    "print(new_dict[\"last_name\"])\n",
    "new_dict.pop(\"middle_name\")\n",
    "print(new_dict)\n",
    "del new_dict[\"last_name\"]\n",
    "print(new_dict)\n",
    "new_dict.popitem()\n",
    "print(new_dict)\n",
    "new_dict.clear()\n",
    "print(new_dict)"
   ]
  },
  {
   "cell_type": "code",
   "execution_count": null,
   "metadata": {},
   "outputs": [],
   "source": []
  },
  {
   "cell_type": "code",
   "execution_count": null,
   "metadata": {},
   "outputs": [],
   "source": [
    "print(new_dict[first_name])"
   ]
  }
 ],
 "metadata": {
  "kernelspec": {
   "display_name": "Python 3 (ipykernel)",
   "language": "python",
   "name": "python3"
  },
  "language_info": {
   "codemirror_mode": {
    "name": "ipython",
    "version": 3
   },
   "file_extension": ".py",
   "mimetype": "text/x-python",
   "name": "python",
   "nbconvert_exporter": "python",
   "pygments_lexer": "ipython3",
   "version": "3.12.0"
  }
 },
 "nbformat": 4,
 "nbformat_minor": 4
}
