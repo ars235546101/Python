{
  "nbformat": 4,
  "nbformat_minor": 0,
  "metadata": {
    "colab": {
      "provenance": []
    },
    "kernelspec": {
      "name": "python3",
      "display_name": "Python 3"
    },
    "language_info": {
      "name": "python"
    }
  },
  "cells": [
    {
      "cell_type": "code",
      "execution_count": 2,
      "metadata": {
        "colab": {
          "base_uri": "https://localhost:8080/"
        },
        "id": "r0muA8W_iBA4",
        "outputId": "baa63611-152f-44cb-dc99-3941eea0237c"
      },
      "outputs": [
        {
          "output_type": "stream",
          "name": "stdout",
          "text": [
            "[('2025-02-10 15:45:32', 'Net_Module', 'Connection timeout from 192.168.1.10. Error Code: 0xAB12CD34'), ('2025-02-10 17:12:05', 'Security_Module', 'Unauthorized access detected from 10.0.0.5. Error Code: 0xDEADBEEF')]\n"
          ]
        }
      ],
      "source": [
        "import re\n",
        "\n",
        "log_data = \"\"\"\n",
        "[2025-02-10 14:23:01] [INFO] [Auth_Module] User login successful.\n",
        "[2025-02-10 15:45:32] [ERROR] [Net_Module] Connection timeout from 192.168.1.10. Error Code: 0xAB12CD34\n",
        "[2025-02-10 16:01:10] [WARN] [Disk_Module] Low disk space warning.\n",
        "[2025-02-10 17:12:05] [ERROR] [Security_Module] Unauthorized access detected from 10.0.0.5. Error Code: 0xDEADBEEF\n",
        "\"\"\"\n",
        "\n",
        "# Used regex101 tool for identifying the pattern\n",
        "pattern = r\"\\[(\\d{4}-\\d\\d-\\d\\d \\d\\d:\\d\\d:\\d\\d)\\] \\[ERROR\\] \\[(.+)\\] (\\D+[\\d{1,}.]+ \\D+0x[0-9a-fA-F]{8})\"\n",
        "\n",
        "def extract_critical_errors(log_data: str) -> list[tuple]:\n",
        "    matches = re.findall(pattern, log_data)\n",
        "    return matches\n",
        "\n",
        "result = extract_critical_errors(log_data)\n",
        "print(result)"
      ]
    }
  ]
}