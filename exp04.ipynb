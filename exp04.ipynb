{
  "nbformat": 4,
  "nbformat_minor": 0,
  "metadata": {
    "colab": {
      "provenance": []
    },
    "kernelspec": {
      "name": "python3",
      "display_name": "Python 3"
    },
    "language_info": {
      "name": "python"
    }
  },
  "cells": [
    {
      "cell_type": "code",
      "execution_count": 1,
      "metadata": {
        "colab": {
          "base_uri": "https://localhost:8080/"
        },
        "id": "q54i7pM1Or7h",
        "outputId": "df69deac-bef1-41da-8214-bf970e097daf"
      },
      "outputs": [
        {
          "output_type": "stream",
          "name": "stdout",
          "text": [
            "HELLO! I am a student. \n",
            "HELLO! I am a student. My name is Aryan\n"
          ]
        }
      ],
      "source": [
        "from contextlib import contextmanager\n",
        "\n",
        "@contextmanager\n",
        "def genericFileFunction (filename, method):\n",
        "    file = open (filename, method)\n",
        "    yield file\n",
        "    file.close ()\n",
        "\n",
        "if __name__ == '__main__':\n",
        "    #writing in a file\n",
        "    with genericFileFunction('test.txt', 'w') as f:\n",
        "        f.write('HELLO! I am a student. ')\n",
        "\n",
        "    #reading in a file\n",
        "    with genericFileFunction('test.txt', 'r') as f:\n",
        "        print(f.read())\n",
        "\n",
        "    #appending\n",
        "    with genericFileFunction('test.txt', 'a') as f:\n",
        "        append = f.write(\"My name is Aryan\")\n",
        "\n",
        "    with genericFileFunction('test.txt', 'r') as f:\n",
        "        append = f.read()\n",
        "\n",
        "    print(append)"
      ]
    }
  ]
}